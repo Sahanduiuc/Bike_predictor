{
 "cells": [
  {
   "cell_type": "markdown",
   "metadata": {},
   "source": [
    "# Setting Up The Usable DataFrame"
   ]
  },
  {
   "cell_type": "markdown",
   "metadata": {},
   "source": [
    "## Importing the Neccessary Libraries"
   ]
  },
  {
   "cell_type": "code",
   "execution_count": 2,
   "metadata": {},
   "outputs": [],
   "source": [
    "import pandas as pd\n",
    "import datetime as dt"
   ]
  },
  {
   "cell_type": "markdown",
   "metadata": {},
   "source": [
    "### Reading in the Data"
   ]
  },
  {
   "cell_type": "markdown",
   "metadata": {},
   "source": [
    "Grabbed the data from the current folder for use"
   ]
  },
  {
   "cell_type": "code",
   "execution_count": 3,
   "metadata": {},
   "outputs": [],
   "source": [
    "df = pd.read_csv('day.csv')"
   ]
  },
  {
   "cell_type": "markdown",
   "metadata": {},
   "source": [
    "### Creating a Function"
   ]
  },
  {
   "cell_type": "code",
   "execution_count": 4,
   "metadata": {},
   "outputs": [],
   "source": [
    "# creates new columns for each dummy variable in the dataset\n",
    "def columnize(df, column, new_vals, new_col):\n",
    "    list1 = df[column].unique()\n",
    "    dict1 = dict(zip(list1,new_vals))\n",
    "    df[new_col] = df[column].map(dict1)\n",
    "    df = pd.concat([df, pd.get_dummies(df[new_col])], 1)\n",
    "    return df"
   ]
  },
  {
   "cell_type": "markdown",
   "metadata": {},
   "source": [
    "### Cleaning the Data"
   ]
  },
  {
   "cell_type": "markdown",
   "metadata": {},
   "source": [
    "###### Removed outliers, changed the dates to ordinal, replaced the weather with correct descriptions, matched each month to the appropriate season, and created dummy variables when needed."
   ]
  },
  {
   "cell_type": "code",
   "execution_count": null,
   "metadata": {},
   "outputs": [],
   "source": [
    "# removing this outlier because HURRICANE SANDY happened\n",
    "df[df['cnt']==22]"
   ]
  },
  {
   "cell_type": "code",
   "execution_count": 6,
   "metadata": {},
   "outputs": [],
   "source": [
    "df = df[df['cnt']>100]"
   ]
  },
  {
   "cell_type": "code",
   "execution_count": 7,
   "metadata": {},
   "outputs": [],
   "source": [
    "#changing dates (dteday) to datetime objects\n",
    "df['dteday'] = pd.to_datetime(df['dteday'])\n",
    "\n",
    "#changing dates to ordinal, to use in regression\n",
    "df['dteday'] = df['dteday'].map(dt.datetime.toordinal)"
   ]
  },
  {
   "cell_type": "code",
   "execution_count": 8,
   "metadata": {},
   "outputs": [],
   "source": [
    "weathertypes = ['clear', 'misty', 'light_storm', 'heavy_storm']"
   ]
  },
  {
   "cell_type": "code",
   "execution_count": 9,
   "metadata": {},
   "outputs": [],
   "source": [
    "#create and add new columns for each weather situation\n",
    "df = columnize(df, 'weathersit', weathertypes, 'weather')"
   ]
  },
  {
   "cell_type": "code",
   "execution_count": 10,
   "metadata": {},
   "outputs": [],
   "source": [
    "# changing the season column to be more accurate (matching season to month)\n",
    "summer = [6,7,8]\n",
    "fall = [9,10,11]\n",
    "winter = [12,1,2]\n",
    "spring = [3,4,5]\n",
    "\n",
    "sum_dict = dict.fromkeys(summer,'summer')\n",
    "wint_dict = dict.fromkeys(winter,'winter')\n",
    "spr_dict = dict.fromkeys(spring,'spring')\n",
    "fall_dict = dict.fromkeys(fall,'fall')"
   ]
  },
  {
   "cell_type": "code",
   "execution_count": 11,
   "metadata": {},
   "outputs": [],
   "source": [
    "# combine all the season dicts\n",
    "seasons = {**sum_dict,**wint_dict,**spr_dict,**fall_dict}"
   ]
  },
  {
   "cell_type": "code",
   "execution_count": 12,
   "metadata": {},
   "outputs": [],
   "source": [
    "# apply the new season column to the dataframe\n",
    "df['season']=df['mnth'].map(seasons)"
   ]
  },
  {
   "cell_type": "code",
   "execution_count": 13,
   "metadata": {},
   "outputs": [],
   "source": [
    "# create dummy variable columns for each season and add it to dataframe\n",
    "df = pd.concat([df, pd.get_dummies(df['season'])], 1)"
   ]
  },
  {
   "cell_type": "markdown",
   "metadata": {},
   "source": [
    "### Exporting the DataFrame as a JSON file"
   ]
  },
  {
   "cell_type": "code",
   "execution_count": 14,
   "metadata": {},
   "outputs": [],
   "source": [
    "# export dataframe to JSON file to use in other notebooks\n",
    "df.to_json('cleaned_bike_share_data.json', orient='records')"
   ]
  },
  {
   "cell_type": "code",
   "execution_count": null,
   "metadata": {},
   "outputs": [],
   "source": []
  }
 ],
 "metadata": {
  "kernelspec": {
   "display_name": "Python 3",
   "language": "python",
   "name": "python3"
  },
  "language_info": {
   "codemirror_mode": {
    "name": "ipython",
    "version": 3
   },
   "file_extension": ".py",
   "mimetype": "text/x-python",
   "name": "python",
   "nbconvert_exporter": "python",
   "pygments_lexer": "ipython3",
   "version": "3.7.3"
  }
 },
 "nbformat": 4,
 "nbformat_minor": 2
}
